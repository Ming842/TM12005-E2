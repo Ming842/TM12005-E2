{
 "cells": [
  {
   "cell_type": "code",
   "execution_count": 45,
   "metadata": {},
   "outputs": [],
   "source": [
    "import dataloader\n",
    "dir = r'E:\\OneDrive\\School\\Technical Medicine\\TM Jaar 1\\TM12004 - Advanced Signal Processing\\data'\n",
    "data, info = dataloader.import_data(dir)"
   ]
  },
  {
   "cell_type": "code",
   "execution_count": 57,
   "metadata": {},
   "outputs": [
    {
     "ename": "KeyError",
     "evalue": "'005_Pimpel.mat'",
     "output_type": "error",
     "traceback": [
      "\u001b[31m---------------------------------------------------------------------------\u001b[39m",
      "\u001b[31mKeyError\u001b[39m                                  Traceback (most recent call last)",
      "\u001b[36mCell\u001b[39m\u001b[36m \u001b[39m\u001b[32mIn[57]\u001b[39m\u001b[32m, line 4\u001b[39m\n\u001b[32m      2\u001b[39m data[\u001b[33m'\u001b[39m\u001b[33m005_Pimpel.mat\u001b[39m\u001b[33m'\u001b[39m][\u001b[33m'\u001b[39m\u001b[33mecg\u001b[39m\u001b[33m'\u001b[39m][\u001b[33m'\u001b[39m\u001b[33msig\u001b[39m\u001b[33m'\u001b[39m][\u001b[32m0\u001b[39m][\u001b[32m0\u001b[39m][:,\u001b[32m1\u001b[39m]\n\u001b[32m      3\u001b[39m x = data[\u001b[33m'\u001b[39m\u001b[33m005_Pimpel.mat\u001b[39m\u001b[33m'\u001b[39m][\u001b[33m'\u001b[39m\u001b[33mecg\u001b[39m\u001b[33m'\u001b[39m][\u001b[33m'\u001b[39m\u001b[33mheader\u001b[39m\u001b[33m'\u001b[39m][\u001b[32m0\u001b[39m][\u001b[32m0\u001b[39m].dtype\n\u001b[32m----> \u001b[39m\u001b[32m4\u001b[39m data = \u001b[43mdl\u001b[49m\u001b[43m.\u001b[49m\u001b[43mrestructure_data\u001b[49m\u001b[43m(\u001b[49m\u001b[43mdata\u001b[49m\u001b[43m)\u001b[49m\n\u001b[32m      5\u001b[39m \u001b[38;5;28mprint\u001b[39m(data)\n",
      "\u001b[36mFile \u001b[39m\u001b[32me:\\OneDrive\\School\\Technical Medicine\\TM Jaar 1\\TM12004 - Advanced Signal Processing\\Python Pacemaking\\TM12005-E2\\dataloader.py:35\u001b[39m, in \u001b[36mrestructure_data\u001b[39m\u001b[34m(data)\u001b[39m\n\u001b[32m     33\u001b[39m \u001b[38;5;28;01mfor\u001b[39;00m key \u001b[38;5;129;01min\u001b[39;00m data.keys():\n\u001b[32m     34\u001b[39m     signals = data[key][\u001b[33m'\u001b[39m\u001b[33mecg\u001b[39m\u001b[33m'\u001b[39m][\u001b[33m'\u001b[39m\u001b[33msig\u001b[39m\u001b[33m'\u001b[39m][\u001b[32m0\u001b[39m][\u001b[32m0\u001b[39m]\n\u001b[32m---> \u001b[39m\u001b[32m35\u001b[39m     sample_rate = data[\u001b[33m'\u001b[39m\u001b[33m005_Pimpel.mat\u001b[39m\u001b[33m'\u001b[39m][\u001b[33m'\u001b[39m\u001b[33mecg\u001b[39m\u001b[33m'\u001b[39m][\u001b[33m'\u001b[39m\u001b[33mheader\u001b[39m\u001b[33m'\u001b[39m][\u001b[32m0\u001b[39m][\u001b[32m0\u001b[39m][\u001b[33m'\u001b[39m\u001b[33mSampling_Rate\u001b[39m\u001b[33m'\u001b[39m][\u001b[32m0\u001b[39m][\u001b[32m0\u001b[39m][\u001b[32m0\u001b[39m][\u001b[32m0\u001b[39m]\n\u001b[32m     36\u001b[39m     sample_size = data[\u001b[33m'\u001b[39m\u001b[33m005_Pimpel.mat\u001b[39m\u001b[33m'\u001b[39m][\u001b[33m'\u001b[39m\u001b[33mecg\u001b[39m\u001b[33m'\u001b[39m][\u001b[33m'\u001b[39m\u001b[33mheader\u001b[39m\u001b[33m'\u001b[39m][\u001b[32m0\u001b[39m][\u001b[32m0\u001b[39m][\u001b[33m'\u001b[39m\u001b[33mSample_Size_ECG\u001b[39m\u001b[33m'\u001b[39m][\u001b[32m0\u001b[39m][\u001b[32m0\u001b[39m][\u001b[32m0\u001b[39m][\u001b[32m0\u001b[39m]\n\u001b[32m     37\u001b[39m     restructured_data[key][\u001b[33m'\u001b[39m\u001b[33mdata\u001b[39m\u001b[33m'\u001b[39m] = signals\n",
      "\u001b[31mKeyError\u001b[39m: '005_Pimpel.mat'"
     ]
    }
   ],
   "source": [
    "import dataloader as dl\n",
    "data['005_Pimpel.mat']['ecg']['sig'][0][0][:,1]\n",
    "x = data['005_Pimpel.mat']['ecg']['header'][0][0].dtype\n",
    "data = dl.restructure_data(data)\n",
    "print(data)"
   ]
  }
 ],
 "metadata": {
  "kernelspec": {
   "display_name": ".venv",
   "language": "python",
   "name": "python3"
  },
  "language_info": {
   "codemirror_mode": {
    "name": "ipython",
    "version": 3
   },
   "file_extension": ".py",
   "mimetype": "text/x-python",
   "name": "python",
   "nbconvert_exporter": "python",
   "pygments_lexer": "ipython3",
   "version": "3.12.3"
  }
 },
 "nbformat": 4,
 "nbformat_minor": 2
}
